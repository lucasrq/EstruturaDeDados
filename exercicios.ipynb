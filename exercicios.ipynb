{
  "cells": [
    {
      "cell_type": "markdown",
      "metadata": {
        "id": "d9jDtUbDOE1-"
      },
      "source": [
        "# **Tópicos**\n",
        "\n",
        "<ol type=\"1\">\n",
        "  <li>Listas;</li>\n",
        "  <li>Conjuntos;</li>\n",
        "  <li>Dicionários.</li>\n",
        "</ol>"
      ]
    },
    {
      "cell_type": "markdown",
      "metadata": {
        "id": "SmoHgt-lwkpD"
      },
      "source": [
        "---"
      ]
    },
    {
      "cell_type": "markdown",
      "metadata": {
        "id": "GABI6OW8OfQ2"
      },
      "source": [
        "# **Exercícios**"
      ]
    },
    {
      "cell_type": "markdown",
      "metadata": {
        "id": "muD1vxozykSC"
      },
      "source": [
        "## 1\\. Listas"
      ]
    },
    {
      "cell_type": "markdown",
      "metadata": {
        "id": "ahrFfCuBxJKs"
      },
      "source": [
        "Criei uma lista chamada `filmes` com o nome dos 10 primeiros filmes mais bem avaliados no site no [IMDB](https://www.imdb.com/chart/top/). Imprima o resultado."
      ]
    },
    {
      "cell_type": "code",
      "execution_count": 51,
      "metadata": {
        "id": "OgL6Hv3bzOHI"
      },
      "outputs": [],
      "source": [
        "filme = ['Um Sonho de Liberdade', 'O Poderoso Chefão',' Batman: O Cavaleiro das Trevas', 'O Poderoso Chefão II', '12 Homens e uma Sentença', 'A Lista de Schindler', 'O Senhor dos Anéis: O Retorno do Rei', 'Pulp Fiction - Tempo de Violência', 'O Senhor dos Anéis: A Sociedade do Anel', 'Três Homens em Conflito']"
      ]
    },
    {
      "cell_type": "markdown",
      "metadata": {
        "id": "KI9zQRT2xa7m"
      },
      "source": [
        "Simule a movimentação do *ranking*. Utilize os métodos `insert` e `pop` para trocar a posição do primeiro e do segundo filme da lista. Imprima o resultado.\n",
        "\n"
      ]
    },
    {
      "cell_type": "code",
      "execution_count": 52,
      "metadata": {
        "colab": {
          "base_uri": "https://localhost:8080/"
        },
        "id": "zX3mA3_GzrXH",
        "outputId": "eeee2029-b636-48d8-c774-8a00b6ab776c"
      },
      "outputs": [
        {
          "name": "stdout",
          "output_type": "stream",
          "text": [
            "['Um Sonho de Liberdade', 'O Poderoso Chefão', ' Batman: O Cavaleiro das Trevas', 'O Poderoso Chefão II', '12 Homens e uma Sentença', 'A Lista de Schindler', 'O Senhor dos Anéis: O Retorno do Rei', 'Pulp Fiction - Tempo de Violência', 'O Senhor dos Anéis: A Sociedade do Anel', 'Três Homens em Conflito']\n",
            "['O Poderoso Chefão', ' Batman: O Cavaleiro das Trevas', 'O Poderoso Chefão II', '12 Homens e uma Sentença', 'A Lista de Schindler', 'O Senhor dos Anéis: O Retorno do Rei', 'Pulp Fiction - Tempo de Violência', 'O Senhor dos Anéis: A Sociedade do Anel', 'Três Homens em Conflito']\n",
            "['O Poderoso Chefão', 'Um Sonho de Liberdade', ' Batman: O Cavaleiro das Trevas', 'O Poderoso Chefão II', '12 Homens e uma Sentença', 'A Lista de Schindler', 'O Senhor dos Anéis: O Retorno do Rei', 'Pulp Fiction - Tempo de Violência', 'O Senhor dos Anéis: A Sociedade do Anel', 'Três Homens em Conflito']\n"
          ]
        }
      ],
      "source": [
        "print(filme)\n",
        "filme.pop(0)\n",
        "print(filme)\n",
        "filme.insert(1, 'Um Sonho de Liberdade')\n",
        "print(filme)"
      ]
    },
    {
      "cell_type": "markdown",
      "metadata": {
        "id": "zMN1Q3jdwoJm"
      },
      "source": [
        "---"
      ]
    },
    {
      "cell_type": "markdown",
      "metadata": {
        "id": "lxa5L6uF0ZJE"
      },
      "source": [
        "## 2\\. Conjuntos"
      ]
    },
    {
      "cell_type": "markdown",
      "metadata": {
        "id": "9JahS2Kj0d5u"
      },
      "source": [
        "Aconteceu um erro no seu *ranking*. Simule a duplicação dos três últimos filmes da lista. Imprima o resultado."
      ]
    },
    {
      "cell_type": "code",
      "execution_count": 53,
      "metadata": {
        "colab": {
          "base_uri": "https://localhost:8080/"
        },
        "id": "BnjnLBNC6PGe",
        "outputId": "04ee443d-c3e4-42e9-dc36-663a90e4f177"
      },
      "outputs": [
        {
          "name": "stdout",
          "output_type": "stream",
          "text": [
            "['O Poderoso Chefão', 'Um Sonho de Liberdade', ' Batman: O Cavaleiro das Trevas', 'O Poderoso Chefão II', '12 Homens e uma Sentença', 'A Lista de Schindler', 'O Senhor dos Anéis: O Retorno do Rei', 'Pulp Fiction - Tempo de Violência', 'O Senhor dos Anéis: A Sociedade do Anel', 'Três Homens em Conflito', 'Pulp Fiction - Tempo de Violência', 'O Senhor dos Anéis: A Sociedade do Anel', 'Três Homens em Conflito']\n"
          ]
        }
      ],
      "source": [
        "\n",
        "UltimosTresFilme = filme[7:]\n",
        "FilmesRepetidos = filme + UltimosTresFilme\n",
        "# Imprimir o resultado\n",
        "print(FilmesRepetidos)"
      ]
    },
    {
      "cell_type": "markdown",
      "metadata": {
        "id": "suxTfCJB6ZiX"
      },
      "source": [
        "Utiliza a conversão `set` e `list` para remover os valores duplicados. Imprima o resultado."
      ]
    },
    {
      "cell_type": "code",
      "execution_count": 54,
      "metadata": {
        "colab": {
          "base_uri": "https://localhost:8080/"
        },
        "id": "ZvUGN-0n6joM",
        "outputId": "20e00ac7-8b90-45a9-d861-a7dca00067de"
      },
      "outputs": [
        {
          "name": "stdout",
          "output_type": "stream",
          "text": [
            "['A Lista de Schindler', 'O Senhor dos Anéis: O Retorno do Rei', 'Três Homens em Conflito', 'Pulp Fiction - Tempo de Violência', 'Um Sonho de Liberdade', '12 Homens e uma Sentença', 'O Poderoso Chefão', 'O Senhor dos Anéis: A Sociedade do Anel', 'O Poderoso Chefão II', ' Batman: O Cavaleiro das Trevas']\n"
          ]
        }
      ],
      "source": [
        "FilmesRepetidos = list(set(FilmesRepetidos))\n",
        "print(FilmesRepetidos)"
      ]
    },
    {
      "cell_type": "markdown",
      "metadata": {
        "id": "ShkK35eQ6pAM"
      },
      "source": [
        "---"
      ]
    },
    {
      "cell_type": "markdown",
      "metadata": {
        "id": "EL_FzmxL6rTv"
      },
      "source": [
        "## 3\\. Dicionários"
      ]
    },
    {
      "cell_type": "markdown",
      "metadata": {
        "id": "i8l0gFqRCpfT"
      },
      "source": [
        "Repita os exercícios da parte 1 (listas). Os elementos da lista `filmes` devem ser dicionários no seguinte formato: `{'nome': <nome-do-filme>, 'ano': <ano do filme>}, 'sinopse': <sinopse do filme>}`."
      ]
    },
    {
      "cell_type": "code",
      "execution_count": 59,
      "metadata": {
        "colab": {
          "base_uri": "https://localhost:8080/"
        },
        "id": "tu6MSFwGDnHv",
        "outputId": "a90743a7-8e22-41f1-a16f-53f555c56f61"
      },
      "outputs": [
        {
          "name": "stdout",
          "output_type": "stream",
          "text": [
            "{'Filmes': {'1. Um Sonho de Liberdade': {'nome': 'Um Sonho de Liberdade', 'ano': 1994, 'sinopse': 'Andy Dufresne é condenado a duas prisões perpétuas consecutivas pelas mortes de sua esposa e de seu amante. Porém, só Andy sabe que ele não cometeu os crimes. No presídio, durante dezenove anos, ele faz amizade com Red, sofre as brutalidades da vida na cadeia, se adapta, ajuda os carcereiros, etc.'}, '2. O Poderoso Chefão': {'nome': 'O Poderoso Chefão', 'ano': 1972, 'sinopse': 'A série de filmes The Godfather consiste em três filmes de drama e suspense policial dirigidos por Francis Ford Coppola com base no romance homônimo do ítalo-americano Mario Puzo. A trilogia narra as tramas envolvendo a Família Corleone, umas das mais poderosas famílias da Máfia italiana nos Estados Unidos'}, '3. Batman: O Cavaleiro das Trevas': {'nome': 'Batman: O Cavaleiro das Trevas', 'ano': 2008, 'sinopse': 'Batman tem conseguido manter a ordem em Gotham com a ajuda de Jim Gordon e Harvey Dent. No entanto, um jovem e anárquico criminoso, conhecido apenas como Coringa, pretende testar o Cavaleiro das Trevas e mergulhar a cidade em um verdadeiro caos.'}, '4. O Poderoso Chefão II': {'nome': 'O Poderoso Chefão II', 'ano': 1974, 'sinopse': 'Depois da máfia matar sua família, o jovem Vito foge da sua cidade na Sicília e vai para os Estados Unidos. Lá, ele assassina Black Hand Fanucci, que exigia dos comerciantes uma parte dos seus ganhos. Com a morte de Fanucci, o poder de Vito cresce, mas sua família é o que mais importa para ele. Morando agora no Lago Tahoe, Michael planeja fazer incursões em Las Vegas e Havana com negócios ligados ao lazer, mas descobre que aliados como Hyman Roth estão tentando matá-lo.'}, '5. 12 Homens e uma Sentença': {'nome': '12 Homens e uma Sentença', 'ano': 1957, 'sinopse': 'Seguindo o encerramento do caso do julgamento do assassinato cometido por um adolescente, os membros do júri devem chegar a um consenso sobre qual será o veredito. Enquanto os 12 indivíduos estão fechados em uma sala para tomar uma decisão, onze deles votam pela condenação do réu, porém um deles acredita na inocência do jovem e tenta convencer os outros a mudarem seus votos, dando início a um conflito que ameaça inviabilizar o delicado processo que vai decidir o destino do acusado.'}, '6. A Lista de Schindler': {'nome': 'A Lista de Schindler', 'ano': 1993, 'sinopse': 'O alemão Oskar Schindler viu na mão de obra judia uma solução barata e viável para lucrar com negócios durante a guerra. Com sua forte influência dentro do partido nazista, foi fácil conseguir as autorizações e abrir uma fábrica. O que poderia parecer uma atitude de um homem não muito bondoso, transformou-se em um dos maiores casos de amor à vida da História, pois este alemão abdicou de toda sua fortuna para salvar a vida de mais de mil judeus em plena luta contra o extermínio alemão.'}, '7. O Senhor dos Anéis: O Retorno do Rei': {'nome': 'O Senhor dos Anéis: O Retorno do Rei', 'ano': 2003, 'sinopse': 'O confronto final entre as forças do bem e do mal que lutam pelo controle do futuro da Terra Média se aproxima. Sauron planeja um grande ataque a Minas Tirith, capital de Gondor, o que faz com que Gandalf e Pippin partam para o local na intenção de ajudar a resistência.'}, '8. Pulp Fiction - Tempo de Violência': {'nome': 'Pulp Fiction - Tempo de Violência', 'ano': 1994, 'sinopse': 'Assassino que trabalha para a máfia se apaixona pela esposa de seu chefe quando é convidado a acompanhá-la, um boxeador descumpre sua promessa de perder uma luta e um casal tenta um assalto que rapidamente sai do controle.'}, '9. O Senhor dos Anéis: A Sociedade do Anel': {'nome': 'O Senhor dos Anéis: A Sociedade do Anel', 'ano': 2001, 'sinopse': 'Em uma terra fantástica e única, um hobbit recebe de presente de seu tio um anel mágico e maligno que precisa ser destruído antes que caia nas mãos do mal. Para isso, o hobbit Frodo tem um caminho árduo pela frente, onde encontra perigo, medo e seres bizarros. Ao seu lado para o cumprimento desta jornada, ele aos poucos pode contar com outros hobbits, um elfo, um anão, dois humanos e um mago, totalizando nove seres que formam a Sociedade do Anel.'}, '10. Três Homens em Conflito': {'nome': 'Três Homens em Conflito', 'ano': 1966, 'sinopse': 'Nos Estados Unidos, durante a Guerra de Secessão, um pistoleiro misterioso tenta trabalhar em conjunto com um bandido e um caçador de recompensas para encontrar um tesouro escondido. Os homens são obrigados a forjar uma difícil aliança visto que cada um conhece apenas uma parte da localização da fortuna. O problema é que nenhum deles tem a intenção de dividir a riqueza.'}}}\n"
          ]
        }
      ],
      "source": [
        "filmes = {\n",
        "        'Filmes':{\n",
        "            '1. Um Sonho de Liberdade':{\n",
        "                'nome':'Um Sonho de Liberdade',\n",
        "                'ano': 1994,\n",
        "                'sinopse':'Andy Dufresne é condenado a duas prisões perpétuas consecutivas pelas mortes de sua esposa e de seu amante. Porém, só Andy sabe que ele não cometeu os crimes. No presídio, durante dezenove anos, ele faz amizade com Red, sofre as brutalidades da vida na cadeia, se adapta, ajuda os carcereiros, etc.'\n",
        "            },\n",
        "            '2. O Poderoso Chefão':{\n",
        "                'nome':'O Poderoso Chefão',\n",
        "                'ano':1972,\n",
        "                'sinopse':'A série de filmes The Godfather consiste em três filmes de drama e suspense policial dirigidos por Francis Ford Coppola com base no romance homônimo do ítalo-americano Mario Puzo. A trilogia narra as tramas envolvendo a Família Corleone, umas das mais poderosas famílias da Máfia italiana nos Estados Unidos'\n",
        "            },\n",
        "            '3. Batman: O Cavaleiro das Trevas':{\n",
        "                'nome':'Batman: O Cavaleiro das Trevas',\n",
        "                'ano':2008,\n",
        "                'sinopse':'Batman tem conseguido manter a ordem em Gotham com a ajuda de Jim Gordon e Harvey Dent. No entanto, um jovem e anárquico criminoso, conhecido apenas como Coringa, pretende testar o Cavaleiro das Trevas e mergulhar a cidade em um verdadeiro caos.'\n",
        "            },\n",
        "            '4. O Poderoso Chefão II':{\n",
        "                'nome':'O Poderoso Chefão II',\n",
        "                'ano':1974,\n",
        "                'sinopse':'Depois da máfia matar sua família, o jovem Vito foge da sua cidade na Sicília e vai para os Estados Unidos. Lá, ele assassina Black Hand Fanucci, que exigia dos comerciantes uma parte dos seus ganhos. Com a morte de Fanucci, o poder de Vito cresce, mas sua família é o que mais importa para ele. Morando agora no Lago Tahoe, Michael planeja fazer incursões em Las Vegas e Havana com negócios ligados ao lazer, mas descobre que aliados como Hyman Roth estão tentando matá-lo.'\n",
        "            },\n",
        "            '5. 12 Homens e uma Sentença':{\n",
        "                'nome':'12 Homens e uma Sentença',\n",
        "                'ano':1957,\n",
        "                'sinopse':'Seguindo o encerramento do caso do julgamento do assassinato cometido por um adolescente, os membros do júri devem chegar a um consenso sobre qual será o veredito. Enquanto os 12 indivíduos estão fechados em uma sala para tomar uma decisão, onze deles votam pela condenação do réu, porém um deles acredita na inocência do jovem e tenta convencer os outros a mudarem seus votos, dando início a um conflito que ameaça inviabilizar o delicado processo que vai decidir o destino do acusado.'\n",
        "            },\n",
        "            '6. A Lista de Schindler':{\n",
        "                'nome':'A Lista de Schindler',\n",
        "                'ano':1993,\n",
        "                'sinopse':'O alemão Oskar Schindler viu na mão de obra judia uma solução barata e viável para lucrar com negócios durante a guerra. Com sua forte influência dentro do partido nazista, foi fácil conseguir as autorizações e abrir uma fábrica. O que poderia parecer uma atitude de um homem não muito bondoso, transformou-se em um dos maiores casos de amor à vida da História, pois este alemão abdicou de toda sua fortuna para salvar a vida de mais de mil judeus em plena luta contra o extermínio alemão.'\n",
        "            },\n",
        "            '7. O Senhor dos Anéis: O Retorno do Rei':{\n",
        "                'nome':'O Senhor dos Anéis: O Retorno do Rei',\n",
        "                'ano':2003,\n",
        "                'sinopse':'O confronto final entre as forças do bem e do mal que lutam pelo controle do futuro da Terra Média se aproxima. Sauron planeja um grande ataque a Minas Tirith, capital de Gondor, o que faz com que Gandalf e Pippin partam para o local na intenção de ajudar a resistência.'\n",
        "            },\n",
        "            '8. Pulp Fiction - Tempo de Violência':{\n",
        "                'nome': 'Pulp Fiction - Tempo de Violência',\n",
        "                'ano':1994,\n",
        "                'sinopse':'Assassino que trabalha para a máfia se apaixona pela esposa de seu chefe quando é convidado a acompanhá-la, um boxeador descumpre sua promessa de perder uma luta e um casal tenta um assalto que rapidamente sai do controle.'\n",
        "            },\n",
        "            '9. O Senhor dos Anéis: A Sociedade do Anel':{\n",
        "                'nome':'O Senhor dos Anéis: A Sociedade do Anel',\n",
        "                'ano':2001,\n",
        "                'sinopse':'Em uma terra fantástica e única, um hobbit recebe de presente de seu tio um anel mágico e maligno que precisa ser destruído antes que caia nas mãos do mal. Para isso, o hobbit Frodo tem um caminho árduo pela frente, onde encontra perigo, medo e seres bizarros. Ao seu lado para o cumprimento desta jornada, ele aos poucos pode contar com outros hobbits, um elfo, um anão, dois humanos e um mago, totalizando nove seres que formam a Sociedade do Anel.'\n",
        "            },\n",
        "            '10. Três Homens em Conflito':{\n",
        "                'nome':'Três Homens em Conflito',\n",
        "                'ano':1966,\n",
        "                'sinopse':'Nos Estados Unidos, durante a Guerra de Secessão, um pistoleiro misterioso tenta trabalhar em conjunto com um bandido e um caçador de recompensas para encontrar um tesouro escondido. Os homens são obrigados a forjar uma difícil aliança visto que cada um conhece apenas uma parte da localização da fortuna. O problema é que nenhum deles tem a intenção de dividir a riqueza.'\n",
        "            }\n",
        "        }\n",
        "}\n",
        "print(filmes)"
      ]
    }
  ],
  "metadata": {
    "colab": {
      "provenance": [],
      "toc_visible": true
    },
    "kernelspec": {
      "display_name": "Python 3",
      "name": "python3"
    },
    "language_info": {
      "name": "python",
      "version": "3.11.4"
    }
  },
  "nbformat": 4,
  "nbformat_minor": 0
}
